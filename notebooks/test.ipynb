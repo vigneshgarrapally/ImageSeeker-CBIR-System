{
 "cells": [
  {
   "cell_type": "code",
   "execution_count": 3,
   "metadata": {},
   "outputs": [],
   "source": [
    "import torch\n",
    "from transformers import AutoImageProcessor, AutoModel\n",
    "from PIL import Image\n",
    "import faiss\n",
    "import numpy as np\n",
    "import os\n",
    "\n",
    "from pillow_heif import register_heif_opener\n",
    "\n",
    "register_heif_opener()"
   ]
  },
  {
   "cell_type": "code",
   "execution_count": null,
   "metadata": {},
   "outputs": [
    {
     "name": "stdout",
     "output_type": "stream",
     "text": [
      "Number of images : 480\n",
      "Extraction done in : 206.97534608840942\n"
     ]
    }
   ],
   "source": [
    "#Define a function that normalizes embeddings and add them to the index\n",
    "def add_vector_to_index(embedding, index):\n",
    "    #convert embedding to numpy\n",
    "    vector = embedding.detach().cpu().numpy()\n",
    "    #Convert to float32 numpy\n",
    "    vector = np.float32(vector)\n",
    "    #Normalize vector: important to avoid wrong results when searching\n",
    "    faiss.normalize_L2(vector)\n",
    "    #Add to index\n",
    "    index.add(vector)\n",
    "\n",
    "\n",
    "    #Populate the images variable with all the images in the dataset folder\n",
    "images = []\n",
    "for root, dirs, files in os.walk('../gallery/photos/'):\n",
    "    for file in files:\n",
    "        if file.endswith('.jpg') or file.endswith('.png') or file.endswith('.heic'):\n",
    "            images.append(root + '/' + file)\n",
    "\n",
    "print('Number of images :', len(images))\n",
    "\n",
    "#load the model and processor\n",
    "device = torch.device(\"cpu\")\n",
    "processor = AutoImageProcessor.from_pretrained('facebook/dinov2-small')\n",
    "model = AutoModel.from_pretrained('facebook/dinov2-small').to(device)\n",
    "\n",
    "#Create Faiss index using FlatL2 type with 384 dimensions as this\n",
    "#is the number of dimensions of the features\n",
    "index = faiss.IndexFlatL2(384)\n",
    "\n",
    "import time\n",
    "t0 = time.time()\n",
    "for image_path in images:\n",
    "    img = Image.open(image_path).convert('RGB')\n",
    "    with torch.no_grad():\n",
    "        inputs = processor(images=img, return_tensors=\"pt\").to(device)\n",
    "        outputs = model(**inputs)\n",
    "    features = outputs.last_hidden_state\n",
    "    add_vector_to_index( features.mean(dim=1), index)\n",
    "\n",
    "print('Extraction done in :', time.time()-t0)\n",
    "\n",
    "#Store the index locally\n",
    "faiss.write_index(index,\"vector.index\")"
   ]
  },
  {
   "cell_type": "code",
   "execution_count": 4,
   "metadata": {},
   "outputs": [
    {
     "name": "stdout",
     "output_type": "stream",
     "text": [
      "Number of images : 480\n"
     ]
    }
   ],
   "source": [
    "images = []\n",
    "for root, dirs, files in os.walk('../gallery/photos/'):\n",
    "    for file in files:\n",
    "        if file.endswith('.jpg') or file.endswith('.png') or file.endswith('.heic'):\n",
    "            images.append(root + '/' + file)\n",
    "\n",
    "print('Number of images :', len(images))"
   ]
  },
  {
   "cell_type": "code",
   "execution_count": 5,
   "metadata": {},
   "outputs": [],
   "source": [
    "#pickel the images list\n",
    "import pickle\n",
    "with open('images.pkl', 'wb') as f:\n",
    "    pickle.dump(images, f)"
   ]
  },
  {
   "cell_type": "code",
   "execution_count": 4,
   "metadata": {},
   "outputs": [
    {
     "name": "stdout",
     "output_type": "stream",
     "text": [
      "distances: [[0.         0.07601181 0.08240125]] indexes: [[44 48 47]]\n"
     ]
    }
   ],
   "source": [
    "import faiss\n",
    "import numpy as np\n",
    "import torch\n",
    "from transformers import AutoImageProcessor, AutoModel\n",
    "from PIL import Image\n",
    "\n",
    "#input image\n",
    "image = Image.open(r\"C:\\Users\\garra\\Desktop\\img_2835.heic\").convert('RGB')\n",
    "\n",
    "#Load the model and processor\n",
    "device = torch.device('cuda' if torch.cuda.is_available() else \"cpu\")\n",
    "processor = AutoImageProcessor.from_pretrained('facebook/dinov2-small')\n",
    "model = AutoModel.from_pretrained('facebook/dinov2-small').to(device)\n",
    "\n",
    "#Extract the features\n",
    "with torch.no_grad():\n",
    "    inputs = processor(images=image, return_tensors=\"pt\").to(device)\n",
    "    outputs = model(**inputs)\n",
    "\n",
    "#Normalize the features before search\n",
    "embeddings = outputs.last_hidden_state\n",
    "embeddings = embeddings.mean(dim=1)\n",
    "vector = embeddings.detach().cpu().numpy()\n",
    "vector = np.float32(vector)\n",
    "faiss.normalize_L2(vector)\n",
    "\n",
    "#Read the index file and perform search of top-3 images\n",
    "index = faiss.read_index(\"vector.index\")\n",
    "d,i = index.search(vector,3)\n",
    "print('distances:', d, 'indexes:', i)"
   ]
  },
  {
   "cell_type": "code",
   "execution_count": 5,
   "metadata": {},
   "outputs": [],
   "source": [
    "top_image_paths = [images[i] for i in i[0]]  # top_indexes[0] contains the indexes of the top 3 images\n",
    "\n",
    "# Display the images\n",
    "for img_path in top_image_paths:\n",
    "    img = Image.open(img_path)\n",
    "    img.show()"
   ]
  }
 ],
 "metadata": {
  "kernelspec": {
   "display_name": "venv",
   "language": "python",
   "name": "python3"
  },
  "language_info": {
   "codemirror_mode": {
    "name": "ipython",
    "version": 3
   },
   "file_extension": ".py",
   "mimetype": "text/x-python",
   "name": "python",
   "nbconvert_exporter": "python",
   "pygments_lexer": "ipython3",
   "version": "3.10.13"
  }
 },
 "nbformat": 4,
 "nbformat_minor": 2
}
